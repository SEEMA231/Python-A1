{
 "cells": [
  {
   "cell_type": "code",
   "execution_count": 19,
   "id": "b2594718-4704-424d-9999-f26672aa7289",
   "metadata": {},
   "outputs": [],
   "source": [
    "#Q1,create one variable containing following type of data:\n",
    "#(i) string\n",
    "#(ii) list\n",
    "#(iii) float\n",
    "#(iv) tuple"
   ]
  },
  {
   "cell_type": "code",
   "execution_count": 2,
   "id": "bac47654-2b6c-42d3-90c9-dac8ad181164",
   "metadata": {},
   "outputs": [],
   "source": [
    "me=('SANA')"
   ]
  },
  {
   "cell_type": "code",
   "execution_count": 3,
   "id": "33755122-3c7a-4cd1-add3-e68e343733de",
   "metadata": {},
   "outputs": [
    {
     "data": {
      "text/plain": [
       "str"
      ]
     },
     "execution_count": 3,
     "metadata": {},
     "output_type": "execute_result"
    }
   ],
   "source": [
    "type(me)"
   ]
  },
  {
   "cell_type": "code",
   "execution_count": 5,
   "id": "844e9746-9a78-4ec3-97ec-3066d6c5b975",
   "metadata": {},
   "outputs": [],
   "source": [
    "a=['sana',1,5,True]"
   ]
  },
  {
   "cell_type": "code",
   "execution_count": 7,
   "id": "44aba835-5137-429b-b7bd-75c2b5afb367",
   "metadata": {},
   "outputs": [
    {
     "data": {
      "text/plain": [
       "list"
      ]
     },
     "execution_count": 7,
     "metadata": {},
     "output_type": "execute_result"
    }
   ],
   "source": [
    "type(a)"
   ]
  },
  {
   "cell_type": "code",
   "execution_count": 8,
   "id": "e3dedaff-e751-40f1-b1f6-bbf894a50c72",
   "metadata": {},
   "outputs": [],
   "source": [
    "price=5.5"
   ]
  },
  {
   "cell_type": "code",
   "execution_count": 9,
   "id": "f370cb55-daf1-4647-9536-79ea1ed82b64",
   "metadata": {},
   "outputs": [
    {
     "data": {
      "text/plain": [
       "float"
      ]
     },
     "execution_count": 9,
     "metadata": {},
     "output_type": "execute_result"
    }
   ],
   "source": [
    "type(price)"
   ]
  },
  {
   "cell_type": "code",
   "execution_count": 10,
   "id": "33aebb44-8568-4f9e-8002-902ed0783987",
   "metadata": {},
   "outputs": [],
   "source": [
    "b=(5,8,5)"
   ]
  },
  {
   "cell_type": "code",
   "execution_count": 11,
   "id": "966a6185-adef-4f90-bee0-e49ed11edc9a",
   "metadata": {},
   "outputs": [
    {
     "data": {
      "text/plain": [
       "tuple"
      ]
     },
     "execution_count": 11,
     "metadata": {},
     "output_type": "execute_result"
    }
   ],
   "source": [
    "type(b)"
   ]
  },
  {
   "cell_type": "code",
   "execution_count": 12,
   "id": "2b5e5fe1-ac58-43ce-a649-2922392b7770",
   "metadata": {},
   "outputs": [],
   "source": [
    "#Q2. Given are some following variables containing data:"
   ]
  },
  {
   "cell_type": "code",
   "execution_count": 17,
   "id": "8feb4365-3555-4806-b4f0-40e9aee7fcd9",
   "metadata": {},
   "outputs": [],
   "source": [
    "#Ans-2 type of variable \n",
    "#String\n",
    "#String\n",
    "#List\n",
    "#Float"
   ]
  },
  {
   "cell_type": "code",
   "execution_count": 21,
   "id": "0ff50981-617c-4b73-b224-496ef3103c82",
   "metadata": {},
   "outputs": [],
   "source": [
    "#Q3.Explain the use of the following operators using an example:"
   ]
  },
  {
   "cell_type": "code",
   "execution_count": 20,
   "id": "271ec36c-210a-4188-b0e9-52c935752127",
   "metadata": {},
   "outputs": [],
   "source": [
    "# Ans-3 use of different operaters\n",
    "#Division operator = /\n",
    "#Modulo operator to find reminder = %\n",
    "#Flood division = //\n",
    "#Used in dictionary comprehension and slicing, loop and condition statement = : "
   ]
  },
  {
   "cell_type": "code",
   "execution_count": 22,
   "id": "8f3f8fb7-7186-4f25-a617-b7de5ac7390e",
   "metadata": {},
   "outputs": [],
   "source": [
    "#Q4. Create a list of length 10 of your choice containing multiple types of data. Using for loop print the element and its data type."
   ]
  },
  {
   "cell_type": "code",
   "execution_count": 23,
   "id": "6f39392d-9006-4b89-b133-a83c42ebdc60",
   "metadata": {},
   "outputs": [],
   "source": [
    "l=['sana',True,3.33,5+9j,4,1,\"seema\",False,5.5,\"pwskills\"]"
   ]
  },
  {
   "cell_type": "code",
   "execution_count": 24,
   "id": "2de60cf9-26fa-4ad5-b948-af7bc484fee9",
   "metadata": {},
   "outputs": [
    {
     "data": {
      "text/plain": [
       "10"
      ]
     },
     "execution_count": 24,
     "metadata": {},
     "output_type": "execute_result"
    }
   ],
   "source": [
    "len(l)"
   ]
  },
  {
   "cell_type": "code",
   "execution_count": 26,
   "id": "5f75a854-3375-41f2-9653-8ebc498efc5b",
   "metadata": {},
   "outputs": [
    {
     "name": "stdout",
     "output_type": "stream",
     "text": [
      "<class 'str'>\n",
      "<class 'bool'>\n",
      "<class 'float'>\n",
      "<class 'complex'>\n",
      "<class 'int'>\n",
      "<class 'int'>\n",
      "<class 'str'>\n",
      "<class 'bool'>\n",
      "<class 'float'>\n",
      "<class 'str'>\n"
     ]
    }
   ],
   "source": [
    "for i in l:\n",
    "    print(type(i))"
   ]
  },
  {
   "cell_type": "code",
   "execution_count": 27,
   "id": "e92979ab-ed1e-46e2-8c41-2cc17a1c5d65",
   "metadata": {},
   "outputs": [],
   "source": [
    "#Q5. Using a while loop, verify if the number A is purely divisible by number B and if so then how many times it can be divisible."
   ]
  },
  {
   "cell_type": "code",
   "execution_count": 28,
   "id": "1b32beb2-346f-49b4-a639-baf6d4415063",
   "metadata": {},
   "outputs": [
    {
     "name": "stdout",
     "output_type": "stream",
     "text": [
      "Number of times divisible: 4\n"
     ]
    }
   ],
   "source": [
    "A = 16\n",
    "B = 2\n",
    "count = 0\n",
    "\n",
    "while A % B == 0:\n",
    "    A = A // B\n",
    "    count += 1\n",
    "\n",
    "print(\"Number of times divisible:\", count)"
   ]
  },
  {
   "cell_type": "code",
   "execution_count": 29,
   "id": "5957a6ee-c350-4eb3-b8be-e399921f6c29",
   "metadata": {},
   "outputs": [],
   "source": [
    "#Q6. Create a list containing 25 int type data. Using for loop and if-else condition print if the element is divisible by 3 or not."
   ]
  },
  {
   "cell_type": "code",
   "execution_count": 30,
   "id": "72993889-b692-4826-af4e-3057804a24b0",
   "metadata": {},
   "outputs": [],
   "source": [
    "l=[2,4,5,8,69,12,5,479,5,41,5,8,9,1,9,7,99,53,6,12,18,30,60,16,90]"
   ]
  },
  {
   "cell_type": "code",
   "execution_count": 31,
   "id": "7badfb67-1042-4f93-a8b5-fc8fdfb4df52",
   "metadata": {},
   "outputs": [
    {
     "data": {
      "text/plain": [
       "25"
      ]
     },
     "execution_count": 31,
     "metadata": {},
     "output_type": "execute_result"
    }
   ],
   "source": [
    "len(l)"
   ]
  },
  {
   "cell_type": "code",
   "execution_count": 32,
   "id": "70a1383c-df6d-40ca-8240-33fd0511fe85",
   "metadata": {},
   "outputs": [
    {
     "name": "stdout",
     "output_type": "stream",
     "text": [
      "2 is not divisible by 3\n",
      "4 is not divisible by 3\n",
      "5 is not divisible by 3\n",
      "8 is not divisible by 3\n",
      "69 is divisible by 3\n",
      "12 is divisible by 3\n",
      "5 is not divisible by 3\n",
      "479 is not divisible by 3\n",
      "5 is not divisible by 3\n",
      "41 is not divisible by 3\n",
      "5 is not divisible by 3\n",
      "8 is not divisible by 3\n",
      "9 is divisible by 3\n",
      "1 is not divisible by 3\n",
      "9 is divisible by 3\n",
      "7 is not divisible by 3\n",
      "99 is divisible by 3\n",
      "53 is not divisible by 3\n",
      "6 is divisible by 3\n",
      "12 is divisible by 3\n",
      "18 is divisible by 3\n",
      "30 is divisible by 3\n",
      "60 is divisible by 3\n",
      "16 is not divisible by 3\n",
      "90 is divisible by 3\n"
     ]
    }
   ],
   "source": [
    "for i in l:\n",
    "    if i%3==0:\n",
    "        print(i,'is divisible by 3')\n",
    "    else:\n",
    "        print(i,'is not divisible by 3')"
   ]
  },
  {
   "cell_type": "code",
   "execution_count": 33,
   "id": "4d3709a4-7505-469e-b9b1-b5cbc4c8a7e8",
   "metadata": {},
   "outputs": [],
   "source": [
    "#Q7. What do you understand about mutable and immutable data types? Give examples for both showing this property."
   ]
  },
  {
   "cell_type": "code",
   "execution_count": 39,
   "id": "a110e0d2-77f1-4b5b-b237-a7b15b7143ca",
   "metadata": {},
   "outputs": [],
   "source": [
    "#Immutable are those data type which we cannot change after once created.\n",
    "#Examples of immutable data types in Python include:\n",
    "#Integer, string\n",
    "\n",
    "#Mutable are those data type which are changeable after creation.\n",
    "#Examples of mutable data types in Python include:\n",
    "#List, Dictionary \n"
   ]
  },
  {
   "cell_type": "code",
   "execution_count": null,
   "id": "b597fbab-e36c-4b99-b814-2289ffa0d9af",
   "metadata": {},
   "outputs": [],
   "source": []
  }
 ],
 "metadata": {
  "kernelspec": {
   "display_name": "Python 3 (ipykernel)",
   "language": "python",
   "name": "python3"
  },
  "language_info": {
   "codemirror_mode": {
    "name": "ipython",
    "version": 3
   },
   "file_extension": ".py",
   "mimetype": "text/x-python",
   "name": "python",
   "nbconvert_exporter": "python",
   "pygments_lexer": "ipython3",
   "version": "3.10.8"
  }
 },
 "nbformat": 4,
 "nbformat_minor": 5
}
